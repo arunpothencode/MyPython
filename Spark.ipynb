{
  "nbformat": 4,
  "nbformat_minor": 0,
  "metadata": {
    "colab": {
      "provenance": [],
      "authorship_tag": "ABX9TyM2/qM3N8b4H9mqrgEkUtQe",
      "include_colab_link": true
    },
    "kernelspec": {
      "name": "python3",
      "display_name": "Python 3"
    },
    "language_info": {
      "name": "python"
    }
  },
  "cells": [
    {
      "cell_type": "markdown",
      "metadata": {
        "id": "view-in-github",
        "colab_type": "text"
      },
      "source": [
        "<a href=\"https://colab.research.google.com/github/arunpothencode/MyPython/blob/Dev-1/Spark.ipynb\" target=\"_parent\"><img src=\"https://colab.research.google.com/assets/colab-badge.svg\" alt=\"Open In Colab\"/></a>"
      ]
    },
    {
      "cell_type": "code",
      "execution_count": 1,
      "metadata": {
        "colab": {
          "base_uri": "https://localhost:8080/"
        },
        "id": "bcaxAqdlZabV",
        "outputId": "a79f2ed9-aca5-4fed-ff11-5385726dd553"
      },
      "outputs": [
        {
          "output_type": "stream",
          "name": "stdout",
          "text": [
            "Requirement already satisfied: pyspark in /usr/local/lib/python3.10/dist-packages (3.5.3)\n",
            "Requirement already satisfied: py4j==0.10.9.7 in /usr/local/lib/python3.10/dist-packages (from pyspark) (0.10.9.7)\n"
          ]
        }
      ],
      "source": [
        "!pip install pyspark"
      ]
    },
    {
      "cell_type": "code",
      "source": [
        "from pyspark.sql import SparkSession\n",
        "from pyspark.sql.functions import *\n",
        "from pyspark.sql.functions import udf, explode, col, regexp_replace\n",
        "from pyspark.sql.types import IntegerType,StringType,ArrayType\n",
        "\n",
        "spark = SparkSession.builder.appName('Spark test').getOrCreate()\n"
      ],
      "metadata": {
        "id": "621vkdZSaFfG"
      },
      "execution_count": 2,
      "outputs": []
    },
    {
      "cell_type": "code",
      "source": [
        "data = [\n",
        "    (100, \"Emp_name1\"),\n",
        "    (101, \"Emp_name2\"),\n",
        "    (102, \"Emp_name3\"),\n",
        "    (103, \"Emp_name4\"),\n",
        "    (104, \"Emp_name5\")\n",
        "  ]"
      ],
      "metadata": {
        "id": "P9yvTcq7bbd8"
      },
      "execution_count": 3,
      "outputs": []
    },
    {
      "cell_type": "code",
      "source": [
        "columns = [\"Emp_id\",\"Emp_Name\"]"
      ],
      "metadata": {
        "id": "e8vEizlMc6TV"
      },
      "execution_count": 4,
      "outputs": []
    },
    {
      "cell_type": "code",
      "source": [
        "df = spark.createDataFrame(data=data, schema = columns)"
      ],
      "metadata": {
        "id": "E0TR7xEMc_sE"
      },
      "execution_count": 5,
      "outputs": []
    },
    {
      "cell_type": "code",
      "source": [
        "df.show()"
      ],
      "metadata": {
        "colab": {
          "base_uri": "https://localhost:8080/"
        },
        "id": "5OjW6M28dEV_",
        "outputId": "826485a5-4ffb-4cee-b6e6-370f58a54e2f"
      },
      "execution_count": 7,
      "outputs": [
        {
          "output_type": "stream",
          "name": "stdout",
          "text": [
            "+------+---------+\n",
            "|Emp_id| Emp_Name|\n",
            "+------+---------+\n",
            "|   100|Emp_name1|\n",
            "|   101|Emp_name2|\n",
            "|   102|Emp_name3|\n",
            "|   103|Emp_name4|\n",
            "|   104|Emp_name5|\n",
            "+------+---------+\n",
            "\n"
          ]
        }
      ]
    }
  ]
}