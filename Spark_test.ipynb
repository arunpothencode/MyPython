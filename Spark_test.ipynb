{
  "nbformat": 4,
  "nbformat_minor": 0,
  "metadata": {
    "colab": {
      "provenance": [],
      "include_colab_link": true
    },
    "kernelspec": {
      "name": "python3",
      "display_name": "Python 3"
    },
    "language_info": {
      "name": "python"
    }
  },
  "cells": [
    {
      "cell_type": "markdown",
      "metadata": {
        "id": "view-in-github",
        "colab_type": "text"
      },
      "source": [
        "<a href=\"https://colab.research.google.com/github/arunpothencode/MyPython/blob/Dev/Spark_test.ipynb\" target=\"_parent\"><img src=\"https://colab.research.google.com/assets/colab-badge.svg\" alt=\"Open In Colab\"/></a>"
      ]
    },
    {
      "cell_type": "code",
      "execution_count": 5,
      "metadata": {
        "colab": {
          "base_uri": "https://localhost:8080/"
        },
        "id": "bf7joo_yc6ea",
        "outputId": "a93531e5-2c52-45c3-d743-c9ab04071a9f"
      },
      "outputs": [
        {
          "output_type": "stream",
          "name": "stdout",
          "text": [
            "Requirement already satisfied: pyspark in /usr/local/lib/python3.10/dist-packages (3.5.3)\n",
            "Requirement already satisfied: py4j==0.10.9.7 in /usr/local/lib/python3.10/dist-packages (from pyspark) (0.10.9.7)\n"
          ]
        }
      ],
      "source": [
        "!pip install pyspark\n",
        "\n",
        "from pyspark.sql import SparkSession\n",
        "from pyspark.sql.functions import *\n",
        "from pyspark.sql.functions import udf, explode, col, regexp_replace\n",
        "from pyspark.sql.types import IntegerType,StringType,ArrayType\n",
        "\n",
        "spark = SparkSession.builder.appName('Spark test').getOrCreate()\n",
        "\n",
        "data = [\n",
        "    (1, \"This is sentence one. This is sentence two! I'm Sentence 3? Hello world.\"),\n",
        "    (2, \"To be, or not to be, that is the question. Whether it is nobler in the mind to suffer. The slings and arrows of outrageous fortune.\"),\n",
        "    (3, \"It was a soft, reposeful summer landscape, as lovely as a dream, and as lonesome as Sunday. The air was full of the smell of flowers, and the buzzing of insects, and the twittering of birds, and there were no people, no wagons, there was no stir of life, nothing going on. The road was mainly a winding path with hoof-prints in it, and now and then a faint trace of wheels on either side in the grass—wheels that apparently had a tire as broad as one’s hand.\"),\n",
        "    (4, \"Abc aaa. Aaa abc def xyz.\"),\n",
        "    (5, \"abc,abc.abc!abc?\")\n",
        "  ]\n",
        "\n",
        "columns = [\"id\",\"text\"]\n",
        "df = spark.createDataFrame(data=data, schema = columns)\n",
        "\n",
        "#df.show(truncate=False)\n",
        "\n",
        "#   Task: write Spark code to return the words occuring more than once for each row\n",
        "#   Example:\n",
        "#   +---+---------------------------------------------------------------------+\n",
        "#   |id |word frequency                                                       |\n",
        "#   +---+---------------------------------------------------------------------+\n",
        "#   |1  |this:2, is:2, sentence:3                                             |\n",
        "#   |2  |to:3, be:2, is:2, the:3                                              |\n",
        "#   |3  |it:2, was:4, a:5, as:6, and:6, the:6, of:6, there:2, no:3, on:2, in:2|\n",
        "#   |4  |abc:2, aaa:2                                                         |\n",
        "#   |5  |abc:4                                                                |\n",
        "#   +---+---------------------------------------------------------------------+\n",
        "\n",
        "# def value_counts(textcol):\n",
        "#   countdict = {}\n",
        "#   for i in textcol.split(\" \"):\n",
        "#     if i in countdict.keys:\n",
        "#       countdict[i] += 1\n",
        "#     else:\n",
        "#       countdict[i] = 1\n",
        "#   finaldict = {}\n",
        "#   for k,v in countdict.items():\n",
        "#     if v>1:\n",
        "#       finaldict[k] = countdict[k]\n",
        "#   return finaldict\n",
        "\n",
        "# value_count_udf = udf(value_counts,StringType())\n",
        "# df = df.withColumn(\"word frequency\", value_count_udf(col(\"text\")))\n",
        "# df.show(truncate=False)\n",
        "\n"
      ]
    },
    {
      "cell_type": "code",
      "source": [
        "df.show(truncate=False)"
      ],
      "metadata": {
        "colab": {
          "base_uri": "https://localhost:8080/"
        },
        "id": "NR6O1fcDMp5V",
        "outputId": "d70bdf60-c1e8-4c13-94bf-ae0e5c02c2cb"
      },
      "execution_count": 6,
      "outputs": [
        {
          "output_type": "stream",
          "name": "stdout",
          "text": [
            "+---+--------------------------------------------------------------------------------------------------------------------------------------------------------------------------------------------------------------------------------------------------------------------------------------------------------------------------------------------------------------------------------------------------------------------------------------------------------------------------+\n",
            "|id |text                                                                                                                                                                                                                                                                                                                                                                                                                                                                      |\n",
            "+---+--------------------------------------------------------------------------------------------------------------------------------------------------------------------------------------------------------------------------------------------------------------------------------------------------------------------------------------------------------------------------------------------------------------------------------------------------------------------------+\n",
            "|1  |This is sentence one. This is sentence two! I'm Sentence 3? Hello world.                                                                                                                                                                                                                                                                                                                                                                                                  |\n",
            "|2  |To be, or not to be, that is the question. Whether it is nobler in the mind to suffer. The slings and arrows of outrageous fortune.                                                                                                                                                                                                                                                                                                                                       |\n",
            "|3  |It was a soft, reposeful summer landscape, as lovely as a dream, and as lonesome as Sunday. The air was full of the smell of flowers, and the buzzing of insects, and the twittering of birds, and there were no people, no wagons, there was no stir of life, nothing going on. The road was mainly a winding path with hoof-prints in it, and now and then a faint trace of wheels on either side in the grass—wheels that apparently had a tire as broad as one’s hand.|\n",
            "|4  |Abc aaa. Aaa abc def xyz.                                                                                                                                                                                                                                                                                                                                                                                                                                                 |\n",
            "|5  |abc,abc.abc!abc?                                                                                                                                                                                                                                                                                                                                                                                                                                                          |\n",
            "+---+--------------------------------------------------------------------------------------------------------------------------------------------------------------------------------------------------------------------------------------------------------------------------------------------------------------------------------------------------------------------------------------------------------------------------------------------------------------------------+\n",
            "\n"
          ]
        }
      ]
    },
    {
      "cell_type": "code",
      "source": [],
      "metadata": {
        "id": "B8lPtLJaOB0B"
      },
      "execution_count": null,
      "outputs": []
    }
  ]
}